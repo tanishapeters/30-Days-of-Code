{
 "cells": [
  {
   "cell_type": "code",
   "execution_count": null,
   "metadata": {},
   "outputs": [],
   "source": [
    "# Enter your code here. Read input from STDIN. Print output to STDOUT\n",
    "\n",
    "import math\n",
    "import os\n",
    "import random\n",
    "import re\n",
    "import sys\n",
    "\n",
    "def WordFunc(word):  \n",
    "    evenW=[]\n",
    "    oddW=[]\n",
    "    \n",
    "    for i in range (len(word)):\n",
    "        if i%2==0:\n",
    "            evenW.append(word[i])\n",
    "        elif i%2!=0:\n",
    "            oddW.append(word[i])\n",
    "    print (*evenW,\" \",*oddW, sep='')\n",
    "      \n",
    "if __name__ == '__main__':\n",
    "    n=int(input())\n",
    "    for i in range (n):\n",
    "        word=str(input())\n",
    "        WordFunc(word)\n"
   ]
  }
 ],
 "metadata": {
  "kernelspec": {
   "display_name": "Python 3",
   "language": "python",
   "name": "python3"
  },
  "language_info": {
   "codemirror_mode": {
    "name": "ipython",
    "version": 3
   },
   "file_extension": ".py",
   "mimetype": "text/x-python",
   "name": "python",
   "nbconvert_exporter": "python",
   "pygments_lexer": "ipython3",
   "version": "3.8.5"
  }
 },
 "nbformat": 4,
 "nbformat_minor": 4
}
