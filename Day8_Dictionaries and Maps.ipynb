{
 "cells": [
  {
   "cell_type": "code",
   "execution_count": null,
   "metadata": {},
   "outputs": [],
   "source": [
    "# Enter your code here. Read input from STDIN. Print output to STDOUT\n",
    "from sys import stdin, stdout \n",
    "\n",
    "\n",
    "def directory(direct):\n",
    "        \n",
    "    for line in stdin:\n",
    "        line=line.strip()#it won't work completely if spaces is not removed from word on line\n",
    "        if line==\"\":\n",
    "            break\n",
    "        else:\n",
    "            if line in direct:\n",
    "                print (line+\"=\"+direct.get(line))\n",
    "            else:\n",
    "                print (\"Not found\") \n",
    "           \n",
    "if __name__=='__main__':\n",
    "    \n",
    "    n=int(input())\n",
    "    direct={}\n",
    "    for i in range (n):\n",
    "        inpt= list(input().split())\n",
    "        direct[inpt[0]]=inpt[1]\n",
    "    directory(direct)\n",
    "    \n"
   ]
  }
 ],
 "metadata": {
  "kernelspec": {
   "display_name": "Python 3",
   "language": "python",
   "name": "python3"
  },
  "language_info": {
   "codemirror_mode": {
    "name": "ipython",
    "version": 3
   },
   "file_extension": ".py",
   "mimetype": "text/x-python",
   "name": "python",
   "nbconvert_exporter": "python",
   "pygments_lexer": "ipython3",
   "version": "3.8.5"
  }
 },
 "nbformat": 4,
 "nbformat_minor": 4
}
