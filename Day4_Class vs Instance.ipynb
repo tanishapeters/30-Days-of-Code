{
 "cells": [
  {
   "cell_type": "code",
   "execution_count": null,
   "metadata": {},
   "outputs": [],
   "source": [
    "class Person:\n",
    "    def __init__(self,initialAge):\n",
    "        # Add some more code to run some checks on initialAge\n",
    "        if initialAge<0:\n",
    "            print(\"Age is not valid, setting age to 0.\")\n",
    "            age=0\n",
    "        else:\n",
    "            age=initialAge\n",
    "        #return age\n",
    "    \n",
    "    def amIOld(self):\n",
    "        # Do some computations in here and print out the correct statement to the console\n",
    "        if age<13:\n",
    "            print (\"You are young.\")\n",
    "        elif age>=13:\n",
    "            if age<18:\n",
    "                print (\"You are a teenager.\")\n",
    "            elif age>=18:\n",
    "                print (\"You are old.\")\n",
    "    def yearPasses(self):\n",
    "        global age\n",
    "        age+=1"
   ]
  }
 ],
 "metadata": {
  "kernelspec": {
   "display_name": "Python 3",
   "language": "python",
   "name": "python3"
  },
  "language_info": {
   "codemirror_mode": {
    "name": "ipython",
    "version": 3
   },
   "file_extension": ".py",
   "mimetype": "text/x-python",
   "name": "python",
   "nbconvert_exporter": "python",
   "pygments_lexer": "ipython3",
   "version": "3.8.5"
  }
 },
 "nbformat": 4,
 "nbformat_minor": 4
}
