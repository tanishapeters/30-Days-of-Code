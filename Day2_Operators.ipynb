{
 "cells": [
  {
   "cell_type": "code",
   "execution_count": null,
   "metadata": {},
   "outputs": [],
   "source": [
    "#!/bin/python3\n",
    "\n",
    "import math\n",
    "import os\n",
    "import random\n",
    "import re\n",
    "import sys\n",
    "\n",
    "#\n",
    "# Complete the 'solve' function below.\n",
    "#\n",
    "# The function accepts following parameters:\n",
    "#  1. DOUBLE meal_cost\n",
    "#  2. INTEGER tip_percent\n",
    "#  3. INTEGER tax_percent\n",
    "#\n",
    "\n",
    "def solve(meal_cost, tip_percent, tax_percent):\n",
    "    # Write your code here\n",
    "\n",
    "if __name__ == '__main__':\n",
    "    meal_cost = float(input().strip())\n",
    "\n",
    "    tip_percent = int(input().strip())\n",
    "\n",
    "    tax_percent = int(input().strip())\n",
    "\n",
    "    solve(meal_cost, tip_percent, tax_percent)"
   ]
  }
 ],
 "metadata": {
  "kernelspec": {
   "display_name": "Python 3",
   "language": "python",
   "name": "python3"
  },
  "language_info": {
   "codemirror_mode": {
    "name": "ipython",
    "version": 3
   },
   "file_extension": ".py",
   "mimetype": "text/x-python",
   "name": "python",
   "nbconvert_exporter": "python",
   "pygments_lexer": "ipython3",
   "version": "3.8.5"
  }
 },
 "nbformat": 4,
 "nbformat_minor": 4
}
